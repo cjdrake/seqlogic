{
 "cells": [
  {
   "cell_type": "markdown",
   "metadata": {},
   "source": [
    "# D Flip Flop\n",
    "\n",
    "Demonstrate a D flip flop with asynchronous reset.\n",
    "\n",
    "The flop's Q output is connected to an inverter,\n",
    "which is connected back into the D input.\n",
    "\n",
    "The resulting simulation will have the following waveform:\n",
    "\n",
    "```\n",
    "T    0  1  2  3  4  5  6  7  8  9 ...\n",
    "\n",
    "clk  /‾‾\\__/‾‾\\__/‾‾\\__/‾‾\\__/‾‾\\__/‾‾\\__/‾‾\\__/‾‾\\__/‾‾\\__/‾‾\\\n",
    "rst  ___/‾‾\\___________________________________________________\n",
    "\n",
    "q    XXXX________/‾‾‾‾‾\\_____/‾‾‾‾‾\\_____/‾‾‾‾‾\\_____/‾‾‾‾‾\\___\n",
    "d    XXXX‾‾‾‾‾‾‾‾\\_____/‾‾‾‾‾\\_____/‾‾‾‾‾\\_____/‾‾‾‾‾\\_____/‾‾‾\n",
    "```\n",
    "\n",
    "Notice:\n",
    "* `q` initial value is `X`, meaning \"uninitialized\".\n",
    "* `q` is reset after `T=1`, the positive edge of `rst`.\n",
    "* `q` does not transition at `T=2` b/c `rst=1`.\n",
    "* `d` appears to update simultaneously with `q`."
   ]
  },
  {
   "cell_type": "code",
   "execution_count": 1,
   "metadata": {},
   "outputs": [],
   "source": [
    "import sys\n",
    "from pathlib import Path\n",
    "\n",
    "WORKSPACE = Path(\"..\")\n",
    "\n",
    "sys.path.insert(0, str(WORKSPACE / \"src\"))"
   ]
  },
  {
   "cell_type": "code",
   "execution_count": 2,
   "metadata": {},
   "outputs": [],
   "source": [
    "from bvwx import Vec\n",
    "from vcd import VCDWriter\n",
    "\n",
    "from seqlogic import Module, run\n",
    "from seqlogic.control.sync import drv_clock, drv_reset"
   ]
  },
  {
   "cell_type": "code",
   "execution_count": 3,
   "metadata": {},
   "outputs": [],
   "source": [
    "class Top(Module):\n",
    "    def build(self):\n",
    "        clk = self.logic(name=\"clk\", dtype=Vec[1])\n",
    "        rst = self.logic(name=\"rst\", dtype=Vec[1])\n",
    "\n",
    "        q = self.logic(name=\"q\", dtype=Vec[1])\n",
    "        d = self.logic(name=\"d\", dtype=Vec[1])\n",
    "\n",
    "        # d = NOT(q)\n",
    "        self.expr(d, ~q)\n",
    "\n",
    "        # DFF w/ async positive (active high) reset, reset to 0\n",
    "        self.dff(q, d, clk, rst=rst, rval=\"1b0\")\n",
    "\n",
    "        # Positive clock w/ no phase shift, period T=2, 50% duty cycle\n",
    "        self.drv(drv_clock(clk, shiftticks=0, onticks=1, offticks=1))\n",
    "\n",
    "        # Positive reset asserting from T=[1..2]\n",
    "        self.drv(drv_reset(rst, shiftticks=1, onticks=1))"
   ]
  },
  {
   "cell_type": "code",
   "execution_count": 4,
   "metadata": {},
   "outputs": [],
   "source": [
    "with (\n",
    "    open(\"dff.vcd\", \"w\") as f,\n",
    "    VCDWriter(f, timescale=\"1ns\") as vcdw,\n",
    "):\n",
    "    top = Top(name=\"top\")\n",
    "    top.dump_vcd(vcdw, \".*\")\n",
    "    run(top.main(), ticks=20)"
   ]
  },
  {
   "cell_type": "code",
   "execution_count": null,
   "metadata": {},
   "outputs": [],
   "source": []
  }
 ],
 "metadata": {
  "kernelspec": {
   "display_name": ".venv",
   "language": "python",
   "name": "python3"
  },
  "language_info": {
   "codemirror_mode": {
    "name": "ipython",
    "version": 3
   },
   "file_extension": ".py",
   "mimetype": "text/x-python",
   "name": "python",
   "nbconvert_exporter": "python",
   "pygments_lexer": "ipython3",
   "version": "3.13.2"
  }
 },
 "nbformat": 4,
 "nbformat_minor": 2
}
