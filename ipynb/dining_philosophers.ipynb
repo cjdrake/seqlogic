{
 "cells": [
  {
   "cell_type": "markdown",
   "metadata": {},
   "source": [
    "# Dining Philosophers Problem"
   ]
  },
  {
   "cell_type": "code",
   "execution_count": null,
   "metadata": {},
   "outputs": [],
   "source": [
    "import sys\n",
    "from pathlib import Path\n",
    "\n",
    "WORKSPACE = Path(\"..\")\n",
    "\n",
    "sys.path.insert(0, str(WORKSPACE / \"src\"))"
   ]
  },
  {
   "cell_type": "code",
   "execution_count": null,
   "metadata": {},
   "outputs": [],
   "source": [
    "from enum import Enum, auto\n",
    "from random import randint\n",
    "\n",
    "from seqlogic import Lock, create_task, now, run, sleep"
   ]
  },
  {
   "cell_type": "code",
   "execution_count": null,
   "metadata": {},
   "outputs": [],
   "source": [
    "# Number of philosophers\n",
    "N = 5\n",
    "\n",
    "# Philosopher state\n",
    "class State(Enum):\n",
    "    INITIAL = auto()\n",
    "    THINKING = auto()\n",
    "    HUNGRY = auto()\n",
    "    EATING = auto()\n",
    "\n",
    "# Eat [min, max] time\n",
    "EAT_TICKS = (50, 100)\n",
    "\n",
    "# Think [min, max] time\n",
    "THINK_TICKS = (50, 100)\n",
    "\n",
    "# Simulation time\n",
    "T = 1000"
   ]
  },
  {
   "cell_type": "code",
   "execution_count": null,
   "metadata": {},
   "outputs": [],
   "source": [
    "# Optional mask to filter print output\n",
    "# If pmask & (1<<i), print philosopher state updates.\n",
    "_pmask = (1 << N) - 1\n",
    "\n",
    "\n",
    "# Philosophers and Forks\n",
    "state = [State.INITIAL for _ in range(N)]\n",
    "forks = [Lock() for _ in range(N)]\n",
    "\n",
    "\n",
    "def init(pmask: int = (1 << N) - 1):\n",
    "    \"\"\"Initialize all philosophers and forks.\"\"\"\n",
    "    global _pmask, state, forks\n",
    "    _pmask = pmask\n",
    "    state = [State.INITIAL for _ in range(N)]\n",
    "    forks = [Lock() for _ in range(N)]\n",
    "\n",
    "\n",
    "def _update(i: int, ns: State):\n",
    "    \"\"\"Update philosopher[i] state.\"\"\"\n",
    "    if _pmask & (1 << i):\n",
    "        print(f\"[{now():08}] P{i} {state[i].name:8} => {ns.name:8}\")\n",
    "    state[i] = ns\n",
    "\n",
    "\n",
    "async def think(i: int):\n",
    "    \"\"\"Philosopher[i] thinks for a random amount of time.\"\"\"\n",
    "    _update(i, State.THINKING)\n",
    "    await sleep(randint(*THINK_TICKS))\n",
    "\n",
    "\n",
    "async def pick_up_forks(i: int):\n",
    "    \"\"\"Philosopher[i] is hungry. Pick up left/right forks.\"\"\"\n",
    "    _update(i, State.HUNGRY)\n",
    "\n",
    "    # Wait on forks in (left, right) order\n",
    "    first, second = i, (i + 1) % N\n",
    "\n",
    "    while True:\n",
    "        # Wait until first fork is available\n",
    "        await forks[first].acquire()\n",
    "\n",
    "        # If second fork is available, get it.\n",
    "        if forks[second].try_acquire():\n",
    "            break\n",
    "\n",
    "        # Second fork is NOT available:\n",
    "        # 1. Release the first fork\n",
    "        forks[first].release()\n",
    "        # 2. Swap which fork we're waiting on first\n",
    "        first, second = second, first\n",
    "\n",
    "\n",
    "async def eat(i: int):\n",
    "    \"\"\"Philosopher[i] eats for a random amount of time.\"\"\"\n",
    "    _update(i, State.EATING)\n",
    "    await sleep(randint(*EAT_TICKS))\n",
    "\n",
    "\n",
    "def put_down_forks(i: int):\n",
    "    \"\"\"Philosopher[i] is not hungry. Put down left/right forks.\"\"\"\n",
    "    first, second = i, (i + 1) % N\n",
    "    forks[first].release()\n",
    "    forks[second].release()\n",
    "\n",
    "\n",
    "async def philosopher(i: int):\n",
    "    while True:\n",
    "        await think(i)\n",
    "        await pick_up_forks(i)\n",
    "        await eat(i)\n",
    "        put_down_forks(i)\n",
    "\n",
    "\n",
    "async def main():\n",
    "    for i in range(N):\n",
    "        create_task(philosopher(i))"
   ]
  },
  {
   "cell_type": "code",
   "execution_count": null,
   "metadata": {},
   "outputs": [],
   "source": [
    "init()\n",
    "run(main(), until=T)"
   ]
  },
  {
   "cell_type": "code",
   "execution_count": null,
   "metadata": {},
   "outputs": [],
   "source": []
  }
 ],
 "metadata": {
  "kernelspec": {
   "display_name": ".venv",
   "language": "python",
   "name": "python3"
  },
  "language_info": {
   "codemirror_mode": {
    "name": "ipython",
    "version": 3
   },
   "file_extension": ".py",
   "mimetype": "text/x-python",
   "name": "python",
   "nbconvert_exporter": "python",
   "pygments_lexer": "ipython3",
   "version": "3.13.2"
  }
 },
 "nbformat": 4,
 "nbformat_minor": 2
}
