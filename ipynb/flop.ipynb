{
 "cells": [
  {
   "cell_type": "code",
   "execution_count": 1,
   "metadata": {},
   "outputs": [],
   "source": [
    "import os\n",
    "import sys\n",
    "\n",
    "WORKSPACE = os.path.abspath(os.path.pardir)\n",
    "SRC_DIR = os.path.join(WORKSPACE, \"src\")\n",
    "\n",
    "sys.path.insert(0, SRC_DIR)"
   ]
  },
  {
   "cell_type": "code",
   "execution_count": 2,
   "metadata": {},
   "outputs": [],
   "source": [
    "from seqlogic import Module, Vec, run\n",
    "from seqlogic.control.globals import drv_clock, drv_reset\n",
    "\n",
    "from vcd import VCDWriter"
   ]
  },
  {
   "cell_type": "code",
   "execution_count": 3,
   "metadata": {},
   "outputs": [],
   "source": [
    "class Top(Module):\n",
    "    def build(self):\n",
    "        clk = self.input(name=\"clk\", dtype=Vec[1])\n",
    "        rst = self.input(name=\"rst\", dtype=Vec[1])\n",
    "\n",
    "        q = self.logic(name=\"q\", dtype=Vec[1])\n",
    "        d = self.logic(name=\"d\", dtype=Vec[1])\n",
    "\n",
    "        self.expr(d, ~q)\n",
    "        self.dff_r(q, d, clk, rst, rval=\"1b0\")\n",
    "\n",
    "        self.drv(drv_clock(clk))\n",
    "        self.drv(drv_reset(rst))"
   ]
  },
  {
   "cell_type": "code",
   "execution_count": 4,
   "metadata": {},
   "outputs": [],
   "source": [
    "with (\n",
    "    open(\"flop.vcd\", \"w\") as f,\n",
    "    VCDWriter(f, timescale=\"1ns\") as vcdw,\n",
    "):\n",
    "    top = Top(name=\"top\")\n",
    "    top.dump_vcd(vcdw, \".*\")\n",
    "    async def main():\n",
    "        await top.elab()\n",
    "    run(main(), ticks=20)"
   ]
  },
  {
   "cell_type": "code",
   "execution_count": null,
   "metadata": {},
   "outputs": [],
   "source": []
  }
 ],
 "metadata": {
  "kernelspec": {
   "display_name": "seqlogic",
   "language": "python",
   "name": "python3"
  },
  "language_info": {
   "codemirror_mode": {
    "name": "ipython",
    "version": 3
   },
   "file_extension": ".py",
   "mimetype": "text/x-python",
   "name": "python",
   "nbconvert_exporter": "python",
   "pygments_lexer": "ipython3",
   "version": "3.12.7"
  }
 },
 "nbformat": 4,
 "nbformat_minor": 2
}
