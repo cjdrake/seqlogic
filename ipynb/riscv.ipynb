{
 "cells": [
  {
   "cell_type": "code",
   "execution_count": 1,
   "metadata": {},
   "outputs": [],
   "source": [
    "import os\n",
    "import sys\n",
    "\n",
    "WORKSPACE = os.path.abspath(os.path.pardir)\n",
    "SRC_DIR = os.path.join(WORKSPACE, \"src\")\n",
    "TESTS_DIR = os.path.join(WORKSPACE, \"tests\")\n",
    "\n",
    "sys.path.insert(0, TESTS_DIR)\n",
    "sys.path.insert(0, SRC_DIR)"
   ]
  },
  {
   "cell_type": "code",
   "execution_count": 2,
   "metadata": {},
   "outputs": [],
   "source": [
    "from enum import Enum\n",
    "\n",
    "from vcd import VCDWriter\n",
    "\n",
    "from seqlogic import Module, simify\n",
    "from seqlogic.bits import T, uint2bits, bits\n",
    "from seqlogic.sim import Region, get_loop\n",
    "\n",
    "from riscv.core.singlecycle.top import Top\n",
    "\n",
    "loop = get_loop()\n",
    "\n",
    "DEBUG_REG = bits(\"32hFFFF_FFF0\")"
   ]
  },
  {
   "cell_type": "code",
   "execution_count": 3,
   "metadata": {},
   "outputs": [],
   "source": [
    "def parse_mem(name: str) -> list[int]:\n",
    "    words = []\n",
    "    with open(name, encoding=\"utf-8\") as f:\n",
    "        for line in f:\n",
    "            for part in line.split()[1:]:\n",
    "                words.append(int(part, base=16))\n",
    "    return words\n",
    "\n",
    "\n",
    "def riscv_build(name: str) -> Top:\n",
    "    # Create module hierarchy\n",
    "    top = Top(name=\"top\")\n",
    "\n",
    "    # Initialize coroutines\n",
    "    simify(top)\n",
    "\n",
    "    # Initialize instruction memory\n",
    "    words = parse_mem(f\"../tests/riscv/tests/{name}.text\")\n",
    "    for i, w in enumerate(words):\n",
    "        top.text_memory_bus.text_memory._mem.set_next(i, uint2bits(w, 32))\n",
    "\n",
    "    # Initialize data memory\n",
    "    words = parse_mem(f\"../tests/riscv/tests/{name}.data\")\n",
    "    for i, w in enumerate(words):\n",
    "        top.data_memory_bus.data_memory._mem.set_next(i, uint2bits(w, 32))\n",
    "\n",
    "    return top\n",
    "\n",
    "\n",
    "class SimStatus(Enum):\n",
    "    PASS = 0\n",
    "    FAIL = 1\n",
    "    TIMEOUT = 2\n",
    "\n",
    "\n",
    "def riscv_sim(top: Top) -> SimStatus:\n",
    "    for _ in loop.iter(until=10000):\n",
    "        if top.bus_wr_en.value == T and top.bus_addr.value == DEBUG_REG:\n",
    "            if top.bus_wr_data.value == bits(\"32h0000_0001\"):\n",
    "                return SimStatus.PASS\n",
    "            else:\n",
    "                return SimStatus.FAIL\n",
    "    return SimStatus.TIMEOUT\n",
    "\n",
    "\n",
    "def run_test(name: str) -> SimStatus:\n",
    "    loop.reset()\n",
    "\n",
    "    with open(f\"{name}.vcd\", \"w\") as f:\n",
    "        with VCDWriter(f, timescale=\"1ns\") as vcdw:\n",
    "            top = riscv_build(name)\n",
    "            top.dump_vcd(vcdw, \".*\")\n",
    "            return riscv_sim(top)"
   ]
  },
  {
   "cell_type": "code",
   "execution_count": 4,
   "metadata": {},
   "outputs": [],
   "source": [
    "assert run_test(\"add\") is SimStatus.PASS"
   ]
  },
  {
   "cell_type": "code",
   "execution_count": 5,
   "metadata": {},
   "outputs": [],
   "source": [
    "assert run_test(\"addi\") is SimStatus.PASS"
   ]
  },
  {
   "cell_type": "code",
   "execution_count": 6,
   "metadata": {},
   "outputs": [],
   "source": [
    "assert run_test(\"and\") is SimStatus.PASS"
   ]
  },
  {
   "cell_type": "code",
   "execution_count": 7,
   "metadata": {},
   "outputs": [],
   "source": [
    "assert run_test(\"andi\") is SimStatus.PASS"
   ]
  },
  {
   "cell_type": "code",
   "execution_count": 8,
   "metadata": {},
   "outputs": [],
   "source": [
    "assert run_test(\"auipc\") is SimStatus.PASS"
   ]
  },
  {
   "cell_type": "code",
   "execution_count": 9,
   "metadata": {},
   "outputs": [],
   "source": [
    "assert run_test(\"beq\") is SimStatus.PASS"
   ]
  },
  {
   "cell_type": "code",
   "execution_count": 10,
   "metadata": {},
   "outputs": [],
   "source": [
    "assert run_test(\"bge\") is SimStatus.PASS"
   ]
  },
  {
   "cell_type": "code",
   "execution_count": 11,
   "metadata": {},
   "outputs": [],
   "source": [
    "assert run_test(\"bgeu\") is SimStatus.PASS"
   ]
  },
  {
   "cell_type": "code",
   "execution_count": 12,
   "metadata": {},
   "outputs": [],
   "source": [
    "assert run_test(\"blt\") is SimStatus.PASS"
   ]
  },
  {
   "cell_type": "code",
   "execution_count": 13,
   "metadata": {},
   "outputs": [],
   "source": [
    "assert run_test(\"bltu\") is SimStatus.PASS"
   ]
  },
  {
   "cell_type": "code",
   "execution_count": 14,
   "metadata": {},
   "outputs": [],
   "source": [
    "assert run_test(\"bne\") is SimStatus.PASS"
   ]
  },
  {
   "cell_type": "code",
   "execution_count": 15,
   "metadata": {},
   "outputs": [],
   "source": [
    "assert run_test(\"jal\") is SimStatus.PASS"
   ]
  },
  {
   "cell_type": "code",
   "execution_count": 16,
   "metadata": {},
   "outputs": [],
   "source": [
    "assert run_test(\"jalr\") is SimStatus.PASS"
   ]
  },
  {
   "cell_type": "code",
   "execution_count": 17,
   "metadata": {},
   "outputs": [],
   "source": [
    "assert run_test(\"lb\") is SimStatus.PASS"
   ]
  },
  {
   "cell_type": "code",
   "execution_count": 18,
   "metadata": {},
   "outputs": [],
   "source": [
    "assert run_test(\"lbu\") is SimStatus.PASS"
   ]
  },
  {
   "cell_type": "code",
   "execution_count": 19,
   "metadata": {},
   "outputs": [],
   "source": [
    "assert run_test(\"lh\") is SimStatus.PASS"
   ]
  },
  {
   "cell_type": "code",
   "execution_count": 20,
   "metadata": {},
   "outputs": [],
   "source": [
    "assert run_test(\"lhu\") is SimStatus.PASS"
   ]
  },
  {
   "cell_type": "code",
   "execution_count": 21,
   "metadata": {},
   "outputs": [],
   "source": [
    "assert run_test(\"lui\") is SimStatus.PASS"
   ]
  },
  {
   "cell_type": "code",
   "execution_count": 22,
   "metadata": {},
   "outputs": [],
   "source": [
    "assert run_test(\"lw\") is SimStatus.PASS"
   ]
  },
  {
   "cell_type": "code",
   "execution_count": 23,
   "metadata": {},
   "outputs": [],
   "source": [
    "assert run_test(\"or\") is SimStatus.PASS"
   ]
  },
  {
   "cell_type": "code",
   "execution_count": 24,
   "metadata": {},
   "outputs": [],
   "source": [
    "assert run_test(\"ori\") is SimStatus.PASS"
   ]
  },
  {
   "cell_type": "code",
   "execution_count": 25,
   "metadata": {},
   "outputs": [],
   "source": [
    "assert run_test(\"sb\") is SimStatus.PASS"
   ]
  },
  {
   "cell_type": "code",
   "execution_count": 26,
   "metadata": {},
   "outputs": [],
   "source": [
    "assert run_test(\"sh\") is SimStatus.PASS"
   ]
  },
  {
   "cell_type": "code",
   "execution_count": 27,
   "metadata": {},
   "outputs": [],
   "source": [
    "assert run_test(\"simple\") is SimStatus.PASS"
   ]
  },
  {
   "cell_type": "code",
   "execution_count": 28,
   "metadata": {},
   "outputs": [],
   "source": [
    "assert run_test(\"sll\") is SimStatus.PASS"
   ]
  },
  {
   "cell_type": "code",
   "execution_count": 29,
   "metadata": {},
   "outputs": [],
   "source": [
    "assert run_test(\"slli\") is SimStatus.PASS"
   ]
  },
  {
   "cell_type": "code",
   "execution_count": 30,
   "metadata": {},
   "outputs": [],
   "source": [
    "assert run_test(\"slt\") is SimStatus.PASS"
   ]
  },
  {
   "cell_type": "code",
   "execution_count": 31,
   "metadata": {},
   "outputs": [],
   "source": [
    "assert run_test(\"slti\") is SimStatus.PASS"
   ]
  },
  {
   "cell_type": "code",
   "execution_count": 32,
   "metadata": {},
   "outputs": [],
   "source": [
    "assert run_test(\"sltiu\") is SimStatus.PASS"
   ]
  },
  {
   "cell_type": "code",
   "execution_count": 33,
   "metadata": {},
   "outputs": [],
   "source": [
    "assert run_test(\"sltu\") is SimStatus.PASS"
   ]
  },
  {
   "cell_type": "code",
   "execution_count": 34,
   "metadata": {},
   "outputs": [],
   "source": [
    "assert run_test(\"sra\") is SimStatus.PASS"
   ]
  },
  {
   "cell_type": "code",
   "execution_count": 35,
   "metadata": {},
   "outputs": [],
   "source": [
    "assert run_test(\"srai\") is SimStatus.PASS"
   ]
  },
  {
   "cell_type": "code",
   "execution_count": 36,
   "metadata": {},
   "outputs": [],
   "source": [
    "assert run_test(\"srl\") is SimStatus.PASS"
   ]
  },
  {
   "cell_type": "code",
   "execution_count": 37,
   "metadata": {},
   "outputs": [],
   "source": [
    "assert run_test(\"srli\") is SimStatus.PASS"
   ]
  },
  {
   "cell_type": "code",
   "execution_count": 38,
   "metadata": {},
   "outputs": [],
   "source": [
    "assert run_test(\"sub\") is SimStatus.PASS"
   ]
  },
  {
   "cell_type": "code",
   "execution_count": 39,
   "metadata": {},
   "outputs": [],
   "source": [
    "assert run_test(\"sw\") is SimStatus.PASS"
   ]
  },
  {
   "cell_type": "code",
   "execution_count": 40,
   "metadata": {},
   "outputs": [],
   "source": [
    "assert run_test(\"xor\") is SimStatus.PASS"
   ]
  },
  {
   "cell_type": "code",
   "execution_count": 41,
   "metadata": {},
   "outputs": [],
   "source": [
    "assert run_test(\"xori\") is SimStatus.PASS"
   ]
  },
  {
   "cell_type": "code",
   "execution_count": null,
   "metadata": {},
   "outputs": [],
   "source": []
  }
 ],
 "metadata": {
  "kernelspec": {
   "display_name": "ipy",
   "language": "python",
   "name": "python3"
  },
  "language_info": {
   "codemirror_mode": {
    "name": "ipython",
    "version": 3
   },
   "file_extension": ".py",
   "mimetype": "text/x-python",
   "name": "python",
   "nbconvert_exporter": "python",
   "pygments_lexer": "ipython3",
   "version": "3.12.2"
  }
 },
 "nbformat": 4,
 "nbformat_minor": 2
}
