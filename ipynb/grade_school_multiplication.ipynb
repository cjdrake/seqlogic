{
 "cells": [
  {
   "cell_type": "markdown",
   "metadata": {},
   "source": [
    "# Grade School Multiplication"
   ]
  },
  {
   "cell_type": "code",
   "execution_count": 1,
   "metadata": {},
   "outputs": [],
   "source": [
    "import sys\n",
    "from pathlib import Path\n",
    "\n",
    "WORKSPACE = Path(\"..\")\n",
    "\n",
    "sys.path.insert(0, str(WORKSPACE / \"src\"))"
   ]
  },
  {
   "cell_type": "code",
   "execution_count": 2,
   "metadata": {},
   "outputs": [],
   "source": [
    "from seqlogic import Vec, bits, cat, rep, u2bv"
   ]
  },
  {
   "cell_type": "code",
   "execution_count": 3,
   "metadata": {},
   "outputs": [],
   "source": [
    "def add(a: Vec, b: Vec) -> Vec:\n",
    "    \"\"\"Ripple Carry Addition.\"\"\"\n",
    "    n = len(a)\n",
    "    assert n > 0 and n == len(b)\n",
    "\n",
    "    # Carries\n",
    "    c = [\"1b0\"]\n",
    "    for i, (a_i, b_i) in enumerate(zip(a, b)):\n",
    "        c.append(a_i & b_i | c[i] & (a_i | b_i))\n",
    "    c = cat(*c[:n])\n",
    "\n",
    "    # Sum\n",
    "    return a ^ b ^ c"
   ]
  },
  {
   "cell_type": "code",
   "execution_count": 4,
   "metadata": {},
   "outputs": [],
   "source": [
    "def multiply(a: Vec, b: Vec) -> Vec:\n",
    "    \"\"\"Grade school multiplication.\"\"\"\n",
    "    n = len(a)\n",
    "    assert n > 0 and n == len(b)\n",
    "\n",
    "    # Calculate partial products\n",
    "    pps = [rep(x, n) & a for x in b]\n",
    "\n",
    "    # Accumulate partial product\n",
    "    s = u2bv(0, 2 * n)\n",
    "    for i, pp in enumerate(pps):\n",
    "        s = add(s, cat(rep(\"1b0\", i), pp, rep(\"1b0\", n - i)))\n",
    "\n",
    "    return s"
   ]
  },
  {
   "cell_type": "code",
   "execution_count": null,
   "metadata": {},
   "outputs": [],
   "source": [
    "# Example: 7 * 6 = 42\n",
    "\n",
    "#            0 1 1 1\n",
    "#          X 0 1 1 0\n",
    "#          ---------\n",
    "#            0 0 0 0\n",
    "#          0 1 1 1\n",
    "#        0 1 1 1\n",
    "#      0 0 0 0\n",
    "#    ---------\n",
    "#    0 0 1 0 1 0 1 0\n",
    "\n",
    "multiply(bits(\"4b0111\"), bits(\"4b0110\"))"
   ]
  },
  {
   "cell_type": "code",
   "execution_count": null,
   "metadata": {},
   "outputs": [],
   "source": [
    "size = 4\n",
    "n = 1 << size\n",
    "\n",
    "print(\"   | \" + \" \".join(f\"{i:02x}\" for i in range(n)))\n",
    "print(\"---+\" + (\"---\" * n))\n",
    "\n",
    "for i in range(n):\n",
    "    a = u2bv(i, size)\n",
    "    print(f\"{i:02x} |\", end=\" \")\n",
    "    for j in range(n):\n",
    "        b = u2bv(j, size)\n",
    "        y = multiply(a, b).to_uint()\n",
    "\n",
    "        # Verify the answer\n",
    "        assert y == (i * j)\n",
    "\n",
    "        print(f\"{y:02x}\", end=\"\\n\" if j == (n - 1) else \" \")"
   ]
  },
  {
   "cell_type": "code",
   "execution_count": null,
   "metadata": {},
   "outputs": [],
   "source": [
    "# Optimistic X propagation\n",
    "multiply(bits(\"4b0000\"), bits(\"4b----\"))"
   ]
  },
  {
   "cell_type": "code",
   "execution_count": null,
   "metadata": {},
   "outputs": [],
   "source": [
    "# Pessimistic X propagation\n",
    "multiply(bits(\"4b0000\"), bits(\"4bXXXX\"))"
   ]
  },
  {
   "cell_type": "code",
   "execution_count": null,
   "metadata": {},
   "outputs": [],
   "source": []
  }
 ],
 "metadata": {
  "kernelspec": {
   "display_name": ".venv",
   "language": "python",
   "name": "python3"
  },
  "language_info": {
   "codemirror_mode": {
    "name": "ipython",
    "version": 3
   },
   "file_extension": ".py",
   "mimetype": "text/x-python",
   "name": "python",
   "nbconvert_exporter": "python",
   "pygments_lexer": "ipython3",
   "version": "3.13.1"
  }
 },
 "nbformat": 4,
 "nbformat_minor": 2
}
