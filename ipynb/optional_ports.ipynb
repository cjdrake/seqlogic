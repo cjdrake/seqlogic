{
 "cells": [
  {
   "cell_type": "markdown",
   "metadata": {},
   "source": [
    "# Optional Ports"
   ]
  },
  {
   "cell_type": "code",
   "execution_count": 1,
   "metadata": {},
   "outputs": [],
   "source": [
    "import sys\n",
    "from pathlib import Path\n",
    "\n",
    "WORKSPACE = Path(\"..\")\n",
    "\n",
    "sys.path.insert(0, str(WORKSPACE / \"src\"))"
   ]
  },
  {
   "cell_type": "code",
   "execution_count": 2,
   "metadata": {},
   "outputs": [],
   "source": [
    "from vcd import VCDWriter\n",
    "\n",
    "from seqlogic import Module, Vec, run, sleep"
   ]
  },
  {
   "cell_type": "code",
   "execution_count": 3,
   "metadata": {},
   "outputs": [],
   "source": [
    "class Adder(Module):\n",
    "\n",
    "    full: bool = False\n",
    "\n",
    "    def build(self):\n",
    "        # Ports\n",
    "        s = self.output(name=\"s\", dtype=Vec[1])\n",
    "        co = self.output(name=\"co\", dtype=Vec[1])\n",
    "\n",
    "        a = self.input(name=\"a\", dtype=Vec[1])\n",
    "        b = self.input(name=\"b\", dtype=Vec[1])\n",
    "\n",
    "        # Only full adder requires carry-in\n",
    "        if self.full:\n",
    "            ci = self.input(name=\"ci\", dtype=Vec[1])\n",
    "\n",
    "        # Combinational Logic\n",
    "        if self.full:\n",
    "            self.expr(s, a ^ b ^ ci)\n",
    "            self.expr(co, a & b | ci & (a | b))\n",
    "        else:\n",
    "            self.expr(s, a ^ b)\n",
    "            self.expr(co, a & b)"
   ]
  },
  {
   "cell_type": "code",
   "execution_count": 4,
   "metadata": {},
   "outputs": [],
   "source": [
    "VALUES = [\n",
    "    (\"1b0\", \"1b0\", \"1b0\"),\n",
    "    (\"1b0\", \"1b0\", \"1b1\"),\n",
    "    (\"1b0\", \"1b1\", \"1b0\"),\n",
    "    (\"1b0\", \"1b1\", \"1b1\"),\n",
    "    (\"1b1\", \"1b0\", \"1b0\"),\n",
    "    (\"1b1\", \"1b0\", \"1b1\"),\n",
    "    (\"1b1\", \"1b1\", \"1b0\"),\n",
    "    (\"1b1\", \"1b1\", \"1b1\"),\n",
    "]\n",
    "\n",
    "\n",
    "class Top(Module):\n",
    "    \"\"\"Top Level Module.\"\"\"\n",
    "\n",
    "    def build(self):\n",
    "        a = self.input(name=\"a\", dtype=Vec[1])\n",
    "        b = self.input(name=\"b\", dtype=Vec[1])\n",
    "        ci = self.input(name=\"ci\", dtype=Vec[1])\n",
    "\n",
    "        fa_s = self.logic(name=\"fa_s\", dtype=Vec[1])\n",
    "        fa_co = self.logic(name=\"fa_co\", dtype=Vec[1])\n",
    "\n",
    "        ha_s = self.logic(name=\"ha_s\", dtype=Vec[1])\n",
    "        ha_co = self.logic(name=\"ha_co\", dtype=Vec[1])\n",
    "\n",
    "        # Design Under Test\n",
    "        self.submod(\n",
    "            name=\"fa\",\n",
    "            mod=Adder.parameterize(full=True),\n",
    "        ).connect(\n",
    "            s=fa_s,\n",
    "            co=fa_co,\n",
    "            a=a,\n",
    "            b=b,\n",
    "            ci=ci,\n",
    "        )\n",
    "\n",
    "        self.submod(\n",
    "            name=\"ha\",\n",
    "            mod=Adder.parameterize(full=False),\n",
    "        ).connect(\n",
    "            s=ha_s,\n",
    "            co=ha_co,\n",
    "            a=a,\n",
    "            b=b,\n",
    "        )\n",
    "\n",
    "        self.drv(self.drv_inputs())\n",
    "\n",
    "    async def drv_inputs(self):\n",
    "        await sleep(1)\n",
    "\n",
    "        for a, b, ci in VALUES:\n",
    "            self.a.next = a\n",
    "            self.b.next = b\n",
    "            self.ci.next = ci\n",
    "\n",
    "            await sleep(1)\n",
    "\n",
    "        self.a.next = \"1b0\"\n",
    "        self.b.next = \"1b0\"\n",
    "        self.ci.next = \"1b0\"\n",
    "        await sleep(1)"
   ]
  },
  {
   "cell_type": "code",
   "execution_count": 5,
   "metadata": {},
   "outputs": [],
   "source": [
    "with (\n",
    "    open(\"adder.vcd\", \"w\") as f,\n",
    "    VCDWriter(f, timescale=\"1ns\") as vcdw,\n",
    "):\n",
    "    top = Top(name=\"top\")\n",
    "    top.dump_vcd(vcdw, \".*\")\n",
    "    run(top.elab(), ticks=100)"
   ]
  },
  {
   "cell_type": "code",
   "execution_count": null,
   "metadata": {},
   "outputs": [],
   "source": []
  }
 ],
 "metadata": {
  "kernelspec": {
   "display_name": ".venv",
   "language": "python",
   "name": "python3"
  },
  "language_info": {
   "codemirror_mode": {
    "name": "ipython",
    "version": 3
   },
   "file_extension": ".py",
   "mimetype": "text/x-python",
   "name": "python",
   "nbconvert_exporter": "python",
   "pygments_lexer": "ipython3",
   "version": "3.13.1"
  }
 },
 "nbformat": 4,
 "nbformat_minor": 2
}
